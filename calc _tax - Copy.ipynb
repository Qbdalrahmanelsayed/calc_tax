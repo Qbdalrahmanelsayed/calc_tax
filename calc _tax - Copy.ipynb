{
 "cells": [
  {
   "cell_type": "code",
   "execution_count": 1,
   "id": "d9469031-b9a9-4be4-921a-cd6421d3539a",
   "metadata": {
    "scrolled": true
   },
   "outputs": [
    {
     "name": "stdin",
     "output_type": "stream",
     "text": [
      "what is your name?    abdalrahman\n",
      " hours of work =    250\n",
      "avearage of rate in hour =  14.5\n"
     ]
    },
    {
     "name": "stdout",
     "output_type": "stream",
     "text": [
      " your pay =  3625.0\n",
      " your gain =  2625.0\n",
      " your tax =  262.5 \n",
      " your net salary = 3362.5\n"
     ]
    }
   ],
   "source": [
    "name=input(\"what is your name?   \")\n",
    "hour=float(input(\" hours of work =   \"))\n",
    "rate=float(input(\"avearage of rate in hour = \"))\n",
    "def check_tax (name,hour,rate):\n",
    "    pay=hour*rate\n",
    "    gain=pay-1000\n",
    "    tax=gain*0.10\n",
    "    net_salary=pay-tax\n",
    "    if pay>1000:\n",
    "        print(f\" your pay =  {pay}\\n your gain =  {gain}\\n your tax =  {tax} \\n your net salary = {net_salary}\")\n",
    "    else:\n",
    "        print (\"your tax =0\")\n",
    "check_tax(name,hour,rate)"
   ]
  },
  {
   "cell_type": "code",
   "execution_count": 18,
   "id": "c0cb942f-982a-49d2-adb3-7f2e085371d7",
   "metadata": {
    "jupyter": {
     "source_hidden": true
    }
   },
   "outputs": [
    {
     "name": "stdout",
     "output_type": "stream",
     "text": [
      "if yoiu can keep your head when all about you are losing theirs and blaming it on you  if you can trust your self when all men doubt you  but make allowance for their doubting too \n",
      "\n",
      "['if', 'yoiu', 'can', 'keep', 'your', 'head', 'when', 'all', 'about', 'you', 'are', 'losing', 'theirs', 'and', 'blaming', 'it', 'on', 'you', 'if', 'you', 'can', 'trust', 'your', 'self', 'when', 'all', 'men', 'doubt', 'you', 'but', 'make', 'allowance', 'for', 'their', 'doubting', 'too']\n",
      "{'all', 'men', 'blaming', 'you', 'keep', 'theirs', 'too', 'head', 'their', 'losing', 'self', 'are', 'doubting', 'trust', 'doubt', 'allowance', 'on', 'for', 'it', 'your', 'about', 'but', 'make', 'when', 'yoiu', 'and', 'if', 'can'}\n"
     ]
    },
    {
     "data": {
      "text/plain": [
       "28"
      ]
     },
     "execution_count": 18,
     "metadata": {},
     "output_type": "execute_result"
    }
   ],
   "source": [
    "verse = \"if yoiu can keep your head when all about you are losing theirs and blaming it on you  if you can trust your self when all men doubt you  but make allowance for their doubting too\" \n",
    "print (verse,\"\\n\")\n",
    "list_verse = verse.split()\n",
    "print(list_verse)\n",
    "verse_set= set (list_verse)\n",
    "print(verse_set)\n",
    "len(verse_set)\n"
   ]
  },
  {
   "cell_type": "code",
   "execution_count": 34,
   "id": "e39c8d39-cfc0-41bf-be3f-c785cdfac05b",
   "metadata": {},
   "outputs": [
    {
     "name": "stdin",
     "output_type": "stream",
     "text": [
      "enter your weight    55\n",
      "enter your height    1.6\n"
     ]
    },
    {
     "name": "stdout",
     "output_type": "stream",
     "text": [
      " normal 21.484374999999996\n"
     ]
    }
   ],
   "source": [
    "weight=float(input(\"enter your weight   \"))\n",
    "height=float(input(\"enter your height   \"))\n",
    "bmi= weight/(height**2) \n",
    "if 18.5<=bmi <25:\n",
    "    print(f\" normal {bmi}\")\n",
    "else:\n",
    "     print(f\"non normal {bmi}\")\n"
   ]
  },
  {
   "cell_type": "code",
   "execution_count": null,
   "id": "7b32b5b8-0bbf-4e99-8116-132d3a5bebef",
   "metadata": {},
   "outputs": [],
   "source": [
    "weight=float(input(\"enter your weight\"))"
   ]
  },
  {
   "cell_type": "code",
   "execution_count": 6,
   "id": "bf4eda6d-a5db-4ec2-bcde-b73aa36f9615",
   "metadata": {},
   "outputs": [],
   "source": [
    "verse_dict = {\"f\":3, \"you\":6 ,\"can\":3 ,\"keep\":1,\"you\":1 ,\"head\":1,\"when\":2, \"all\":2 ,\"about\":2 ,\"are\":1 ,\"losing\":1 ,\"theirs\":1,\"and\":3,\"blaming\":1,\"it\":1 ,\"on\":1 ,\"trust\":1 ,\"yourself\":1,\"men\":1,\"doubt\":1 ,\"but\":1 ,\"make\":1,\"allowance\":1 ,\"for\":1 ,\"their\":1 ,\"doubting\":1,\"too\":3 ,\"wait\":1 ,\"not\":1 ,\"be\":1,\"tired\":1 ,\"by\":1 ,\"waiting\":1 , \"or\":2 ,\"being\":2 ,\"lied\":1,\"dont\":3,\"deal\":1,\"in\":1 , \"lies\":1 ,\"hated\":1 ,\"give\":1 ,\"way\":1, \"to\":1 ,\"hating\":1, \"yet\":1 ,\"look\":1, \"good\":1 ,\"nor\":1 ,\"talk\":1 ,\"wise\":1}"
   ]
  },
  {
   "cell_type": "code",
   "execution_count": 7,
   "id": "f4fea141-21ed-4a8d-aee7-70e62a12fd55",
   "metadata": {},
   "outputs": [
    {
     "name": "stdout",
     "output_type": "stream",
     "text": [
      "{'f': 3, 'you': 1, 'can': 3, 'keep': 1, 'head': 1, 'when': 2, 'all': 2, 'about': 2, 'are': 1, 'losing': 1, 'theirs': 1, 'and': 3, 'blaming': 1, 'it': 1, 'on': 1, 'trust': 1, 'yourself': 1, 'men': 1, 'doubt': 1, 'but': 1, 'make': 1, 'allowance': 1, 'for': 1, 'their': 1, 'doubting': 1, 'too': 3, 'wait': 1, 'not': 1, 'be': 1, 'tired': 1, 'by': 1, 'waiting': 1, 'or': 2, 'being': 2, 'lied': 1, 'dont': 3, 'deal': 1, 'in': 1, 'lies': 1, 'hated': 1, 'give': 1, 'way': 1, 'to': 1, 'hating': 1, 'yet': 1, 'look': 1, 'good': 1, 'nor': 1, 'talk': 1, 'wise': 1} \n",
      "\n"
     ]
    }
   ],
   "source": [
    "print (verse_dict , '\\n')"
   ]
  },
  {
   "cell_type": "code",
   "execution_count": 8,
   "id": "e4ac4432-6284-4215-b89b-74fff02d0461",
   "metadata": {},
   "outputs": [
    {
     "name": "stdout",
     "output_type": "stream",
     "text": [
      "{'lies', 'be', 'give', 'yourself', 'their', 'tired', 'yet', 'when', 'on', 'you', 'keep', 'are', 'wise', 'men', 'deal', 'and', 'losing', 'all', 'blaming', 'it', 'not', 'good', 'in', 'trust', 'f', 'allowance', 'waiting', 'to', 'talk', 'or', 'can', 'way', 'look', 'theirs', 'for', 'nor', 'lied', 'doubt', 'but', 'about', 'doubting', 'by', 'too', 'make', 'wait', 'hated', 'being', 'dont', 'head', 'hating'}\n"
     ]
    }
   ],
   "source": [
    "vrse= set(verse_dict)\n",
    "print(vrse)"
   ]
  },
  {
   "cell_type": "code",
   "execution_count": 9,
   "id": "5492cc1e-66f7-405e-93d9-c72ef3d8d91e",
   "metadata": {},
   "outputs": [
    {
     "name": "stdout",
     "output_type": "stream",
     "text": [
      "the is not define\n"
     ]
    }
   ],
   "source": [
    "if 'breathe' in verse_dict:\n",
    "    print(\"the k is define\")\n",
    "else:\n",
    "    print(\"the is not define\")"
   ]
  },
  {
   "cell_type": "code",
   "execution_count": null,
   "id": "3b3bb675-2207-402f-8196-8c936c39429c",
   "metadata": {},
   "outputs": [
    {
     "name": "stdin",
     "output_type": "stream",
     "text": [
      "enter your number 9\n",
      "enter your number 0\n",
      "choose(+ ,-, * ,/) /\n"
     ]
    },
    {
     "name": "stdout",
     "output_type": "stream",
     "text": [
      ",,,,,\n"
     ]
    },
    {
     "name": "stdin",
     "output_type": "stream",
     "text": [
      "0.0 0\n"
     ]
    },
    {
     "name": "stdout",
     "output_type": "stream",
     "text": [
      ",,,,,\n"
     ]
    },
    {
     "name": "stdin",
     "output_type": "stream",
     "text": [
      "0.0 0\n"
     ]
    },
    {
     "name": "stdout",
     "output_type": "stream",
     "text": [
      ",,,,,\n"
     ]
    },
    {
     "name": "stdin",
     "output_type": "stream",
     "text": [
      "0.0 7\n"
     ]
    },
    {
     "name": "stdout",
     "output_type": "stream",
     "text": [
      ",,,,,\n"
     ]
    }
   ],
   "source": [
    "num_1= float (input(\"enter your number\"))\n",
    "num_2= float (input(\"enter your number\"))\n",
    "operation= input(\"choose(+ ,-, * ,/)\")\n",
    "if operation == \"+\":\n",
    "    print (num_1 + num_2)\n",
    "elif operation ==\"-\":\n",
    "    print (num_1 - num_2)\n",
    "elif operation ==\"*\":\n",
    "    print (num_1 *num_2) \n",
    "elif  operation ==\"/\":   \n",
    "    while num_2 == 0:\n",
    "        print (',,,,,')\n",
    "        num2 = float (input(num_2))\n",
    "    print(num_1 / num_2) \n",
    "            \n",
    "else:\n",
    "    print(\"error\")"
   ]
  },
  {
   "cell_type": "code",
   "execution_count": null,
   "id": "1b10953a-d50f-4f33-bd35-69710f6ec41e",
   "metadata": {},
   "outputs": [],
   "source": []
  }
 ],
 "metadata": {
  "kernelspec": {
   "display_name": "Python 3 (ipykernel)",
   "language": "python",
   "name": "python3"
  },
  "language_info": {
   "codemirror_mode": {
    "name": "ipython",
    "version": 3
   },
   "file_extension": ".py",
   "mimetype": "text/x-python",
   "name": "python",
   "nbconvert_exporter": "python",
   "pygments_lexer": "ipython3",
   "version": "3.13.0"
  }
 },
 "nbformat": 4,
 "nbformat_minor": 5
}
